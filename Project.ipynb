{
 "cells": [
  {
   "cell_type": "code",
   "execution_count": 626,
   "metadata": {},
   "outputs": [],
   "source": [
    "#Date: 200619"
   ]
  },
  {
   "cell_type": "markdown",
   "metadata": {},
   "source": [
    "# Mining Classification"
   ]
  },
  {
   "cell_type": "markdown",
   "metadata": {},
   "source": [
    "## Introduction\n",
    "\n",
    "- **Data:** \n",
    "    - From Kaggle for the International Mineralogical Association Database of Mineral Properties\n",
    "    - https://www.kaggle.com/lsind18/ima-database-of-mineral-properties\n",
    "    \n",
    "\n",
    "\n",
    "- **Goal:** Classification model, which country has the most abundant minerals?"
   ]
  },
  {
   "cell_type": "markdown",
   "metadata": {},
   "source": [
    "## Imports"
   ]
  },
  {
   "cell_type": "code",
   "execution_count": 430,
   "metadata": {},
   "outputs": [],
   "source": [
    "import pandas as pd\n",
    "import seaborn as sns\n",
    "sns.set()\n",
    "import matplotlib.pyplot as plt"
   ]
  },
  {
   "cell_type": "markdown",
   "metadata": {},
   "source": [
    "## Data Cleaning"
   ]
  },
  {
   "cell_type": "code",
   "execution_count": 431,
   "metadata": {},
   "outputs": [],
   "source": [
    "#access IMG data file\n",
    "df=pd.read_csv(r'/Users/karenpaklin/Documents/generalassembly/project/RRUFF_Export_20191025_022204.csv')\n",
    "#turn this into a relative file path"
   ]
  },
  {
   "cell_type": "code",
   "execution_count": 432,
   "metadata": {},
   "outputs": [
    {
     "data": {
      "text/html": [
       "<div>\n",
       "<style scoped>\n",
       "    .dataframe tbody tr th:only-of-type {\n",
       "        vertical-align: middle;\n",
       "    }\n",
       "\n",
       "    .dataframe tbody tr th {\n",
       "        vertical-align: top;\n",
       "    }\n",
       "\n",
       "    .dataframe thead th {\n",
       "        text-align: right;\n",
       "    }\n",
       "</style>\n",
       "<table border=\"1\" class=\"dataframe\">\n",
       "  <thead>\n",
       "    <tr style=\"text-align: right;\">\n",
       "      <th></th>\n",
       "      <th>Mineral Name</th>\n",
       "      <th>RRUFF Chemistry (plain)</th>\n",
       "      <th>IMA Chemistry (plain)</th>\n",
       "      <th>Chemistry Elements</th>\n",
       "      <th>IMA Number</th>\n",
       "      <th>RRUFF IDs</th>\n",
       "      <th>Country of Type Locality</th>\n",
       "      <th>Year First Published</th>\n",
       "      <th>IMA Status</th>\n",
       "      <th>Structural Groupname</th>\n",
       "      <th>Fleischers Groupname</th>\n",
       "      <th>Status Notes</th>\n",
       "      <th>Crystal Systems</th>\n",
       "      <th>Oldest Known Age (Ma)</th>\n",
       "    </tr>\n",
       "  </thead>\n",
       "  <tbody>\n",
       "    <tr>\n",
       "      <th>0</th>\n",
       "      <td>Abellaite</td>\n",
       "      <td>NaPb2+2(CO3)2(OH)</td>\n",
       "      <td>NaPb2(CO3)2(OH)</td>\n",
       "      <td>Na Pb C O H</td>\n",
       "      <td>IMA2014-111</td>\n",
       "      <td>NaN</td>\n",
       "      <td>Spain</td>\n",
       "      <td>2014.0</td>\n",
       "      <td>Approved</td>\n",
       "      <td></td>\n",
       "      <td></td>\n",
       "      <td>Ibáñez-Insa J, Elvira J J, Llovet X, Pérez-Can...</td>\n",
       "      <td>hexagonal</td>\n",
       "      <td>370.0</td>\n",
       "    </tr>\n",
       "    <tr>\n",
       "      <th>1</th>\n",
       "      <td>Abelsonite</td>\n",
       "      <td>Ni2+C31H32N4</td>\n",
       "      <td>NiC31H32N4</td>\n",
       "      <td>Ni C H N</td>\n",
       "      <td>IMA1975-013</td>\n",
       "      <td>R070007</td>\n",
       "      <td>USA</td>\n",
       "      <td>1975.0</td>\n",
       "      <td>Approved</td>\n",
       "      <td></td>\n",
       "      <td></td>\n",
       "      <td>Milton C, Dwornik E J, Estep-Barnes P A, Finke...</td>\n",
       "      <td>triclinic</td>\n",
       "      <td>56.0</td>\n",
       "    </tr>\n",
       "  </tbody>\n",
       "</table>\n",
       "</div>"
      ],
      "text/plain": [
       "  Mineral Name RRUFF Chemistry (plain) IMA Chemistry (plain)  \\\n",
       "0    Abellaite       NaPb2+2(CO3)2(OH)       NaPb2(CO3)2(OH)   \n",
       "1   Abelsonite            Ni2+C31H32N4            NiC31H32N4   \n",
       "\n",
       "  Chemistry Elements   IMA Number RRUFF IDs Country of Type Locality  \\\n",
       "0        Na Pb C O H  IMA2014-111       NaN                    Spain   \n",
       "1           Ni C H N  IMA1975-013   R070007                      USA   \n",
       "\n",
       "   Year First Published IMA Status Structural Groupname Fleischers Groupname  \\\n",
       "0                2014.0   Approved                                             \n",
       "1                1975.0   Approved                                             \n",
       "\n",
       "                                        Status Notes Crystal Systems  \\\n",
       "0  Ibáñez-Insa J, Elvira J J, Llovet X, Pérez-Can...       hexagonal   \n",
       "1  Milton C, Dwornik E J, Estep-Barnes P A, Finke...       triclinic   \n",
       "\n",
       "   Oldest Known Age (Ma)  \n",
       "0                  370.0  \n",
       "1                   56.0  "
      ]
     },
     "execution_count": 432,
     "metadata": {},
     "output_type": "execute_result"
    }
   ],
   "source": [
    "df.head(2)"
   ]
  },
  {
   "cell_type": "markdown",
   "metadata": {},
   "source": [
    "### Headers Explained\n",
    "\n",
    "- __Mineral Name:__ In general terms, a mineral is an element or chemical compound that is normally crystalline and which has been formed as a result of geological processes. There are some exceptions like mercury which occurs naturally as a liquid at normal temperatures, but IMA's new definition now accepts extraterrestial substances as minerals, whilst previously recognised species from Laurium in Greece are discredited because they are formed from the weathering of slag. Source (http://www.mineral.org.au/news/namingmins.htmlz)\n",
    "- __RRUFF Chemistry (plain):__ RRUFF formula (named for Raman Spectroscopy), which stores the chemistry in electron forms\n",
    "- __IMA Chemistry (plain):__  The International Mineralogical Association(IMA) formula\n",
    "- __Chemistry Elements:__ The mineral broken down into element composition\n",
    "- __IMA number:__ The mineral reference number as stored in the IMA database\n",
    "- __RRUFF IDs:__ The mineral reference number as stored in the RRUFF database\n",
    "- __Country of Type Locality:__ The locality where the original material came from for the formal definition of the mineral species\n",
    "- __Year First Published:__ The year a paper was first published about it\n",
    "- __IMA Status:__ The IMA status of a mineral (Approved or Discredited)\n",
    "- __Structural Groupname:__ A mineral group, which are comprised of a number of mineral species with similar chemical and crystallographic characteristics\n",
    "- __Fleishers Groupname:__ Fleisher first addressed the criteria for accepting new minerals, and he did this for 40 years, first by himself, and later with peers and associates. His later experience, contributions, and professional development led to him writing The Glossary of Mineral Species in 1971 which was a reference book that included mineral species, their formulas, and lattice structures. It has since been re-released in updated versions every couple of years. Source (https://en.wikipedia.org/wiki/Michael_Fleischer_(mineralogist))\n",
    "- __Status Notes:__ References affiliated published papers\n",
    "- __Crystal Systems:__ Classifies the crystallography into 7 groups based on their point groups and lattice system assignment\n",
    "- __Oldest Known Age (Ma):__ Years in Mega-annum (1 million years)\n",
    "\n"
   ]
  },
  {
   "cell_type": "code",
   "execution_count": 433,
   "metadata": {},
   "outputs": [],
   "source": [
    "#make the headers easier fields to use and manipulate\n",
    "df.rename(columns={'Mineral Name':'Mineral',\n",
    "                   'Chemistry Elements':'Elements',\n",
    "                   'Country of Type Locality':'Country',\n",
    "                   'IMA Status':'ima_status',\n",
    "                   'Structural Groupname':'structural_group',\n",
    "                   'Fleischers Groupname':'fleischers_group',\n",
    "                   'Crystal Systems':'crystal_systems', \n",
    "                   'Oldest Known Age (Ma)':'Age_Ma'\n",
    "                  }, inplace=True)"
   ]
  },
  {
   "cell_type": "code",
   "execution_count": 434,
   "metadata": {},
   "outputs": [
    {
     "data": {
      "text/html": [
       "<div>\n",
       "<style scoped>\n",
       "    .dataframe tbody tr th:only-of-type {\n",
       "        vertical-align: middle;\n",
       "    }\n",
       "\n",
       "    .dataframe tbody tr th {\n",
       "        vertical-align: top;\n",
       "    }\n",
       "\n",
       "    .dataframe thead th {\n",
       "        text-align: right;\n",
       "    }\n",
       "</style>\n",
       "<table border=\"1\" class=\"dataframe\">\n",
       "  <thead>\n",
       "    <tr style=\"text-align: right;\">\n",
       "      <th></th>\n",
       "      <th>Mineral</th>\n",
       "      <th>RRUFF Chemistry (plain)</th>\n",
       "      <th>IMA Chemistry (plain)</th>\n",
       "      <th>Elements</th>\n",
       "      <th>IMA Number</th>\n",
       "      <th>RRUFF IDs</th>\n",
       "      <th>Country</th>\n",
       "      <th>Year First Published</th>\n",
       "      <th>ima_status</th>\n",
       "      <th>structural_group</th>\n",
       "      <th>fleischers_group</th>\n",
       "      <th>Status Notes</th>\n",
       "      <th>crystal_systems</th>\n",
       "      <th>Age_Ma</th>\n",
       "    </tr>\n",
       "  </thead>\n",
       "  <tbody>\n",
       "    <tr>\n",
       "      <th>0</th>\n",
       "      <td>Abellaite</td>\n",
       "      <td>NaPb2+2(CO3)2(OH)</td>\n",
       "      <td>NaPb2(CO3)2(OH)</td>\n",
       "      <td>Na Pb C O H</td>\n",
       "      <td>IMA2014-111</td>\n",
       "      <td>NaN</td>\n",
       "      <td>Spain</td>\n",
       "      <td>2014.0</td>\n",
       "      <td>Approved</td>\n",
       "      <td></td>\n",
       "      <td></td>\n",
       "      <td>Ibáñez-Insa J, Elvira J J, Llovet X, Pérez-Can...</td>\n",
       "      <td>hexagonal</td>\n",
       "      <td>370.0</td>\n",
       "    </tr>\n",
       "    <tr>\n",
       "      <th>1</th>\n",
       "      <td>Abelsonite</td>\n",
       "      <td>Ni2+C31H32N4</td>\n",
       "      <td>NiC31H32N4</td>\n",
       "      <td>Ni C H N</td>\n",
       "      <td>IMA1975-013</td>\n",
       "      <td>R070007</td>\n",
       "      <td>USA</td>\n",
       "      <td>1975.0</td>\n",
       "      <td>Approved</td>\n",
       "      <td></td>\n",
       "      <td></td>\n",
       "      <td>Milton C, Dwornik E J, Estep-Barnes P A, Finke...</td>\n",
       "      <td>triclinic</td>\n",
       "      <td>56.0</td>\n",
       "    </tr>\n",
       "    <tr>\n",
       "      <th>2</th>\n",
       "      <td>Abenakiite-(Ce)</td>\n",
       "      <td>Na26Ce3+6(SiO3)6(P5+O4)6(C4+O3)6(S4+O2)O</td>\n",
       "      <td>Na26Ce6(Si6O18)(PO4)6(CO3)6(SO2)O</td>\n",
       "      <td>Na Ce Si O P C S</td>\n",
       "      <td>IMA1991-054</td>\n",
       "      <td>NaN</td>\n",
       "      <td>Canada</td>\n",
       "      <td>1991.0</td>\n",
       "      <td>Approved</td>\n",
       "      <td></td>\n",
       "      <td></td>\n",
       "      <td>McDonald A M, Chao G Y, Grice J D (1994) Abena...</td>\n",
       "      <td>hexagonal</td>\n",
       "      <td>124.0</td>\n",
       "    </tr>\n",
       "    <tr>\n",
       "      <th>3</th>\n",
       "      <td>Abernathyite</td>\n",
       "      <td>K(U6+O2)As5+O4·3H2O</td>\n",
       "      <td>K(UO2)(AsO4)·3H2O</td>\n",
       "      <td>K U O As H</td>\n",
       "      <td>NaN</td>\n",
       "      <td>NaN</td>\n",
       "      <td>USA</td>\n",
       "      <td>1956.0</td>\n",
       "      <td>Grandfathered|Approved</td>\n",
       "      <td>Natroautunite</td>\n",
       "      <td>autunite</td>\n",
       "      <td>Thompson M E, Ingram B, Gross E B (1956) Abern...</td>\n",
       "      <td>tetragonal</td>\n",
       "      <td>358.9</td>\n",
       "    </tr>\n",
       "    <tr>\n",
       "      <th>4</th>\n",
       "      <td>Abhurite</td>\n",
       "      <td>Sn2+21O6(OH)14Cl16</td>\n",
       "      <td>Sn2+21O6(OH)14Cl16</td>\n",
       "      <td>Sn O H Cl</td>\n",
       "      <td>IMA1983-061</td>\n",
       "      <td>R060227</td>\n",
       "      <td>Saudi Arabia</td>\n",
       "      <td>1983.0</td>\n",
       "      <td>Approved</td>\n",
       "      <td></td>\n",
       "      <td></td>\n",
       "      <td>Matzko J J, Evans H T, Mrose M E, Aruscavage P...</td>\n",
       "      <td>hexagonal</td>\n",
       "      <td>0.0</td>\n",
       "    </tr>\n",
       "  </tbody>\n",
       "</table>\n",
       "</div>"
      ],
      "text/plain": [
       "           Mineral                   RRUFF Chemistry (plain)  \\\n",
       "0        Abellaite                         NaPb2+2(CO3)2(OH)   \n",
       "1       Abelsonite                              Ni2+C31H32N4   \n",
       "2  Abenakiite-(Ce)  Na26Ce3+6(SiO3)6(P5+O4)6(C4+O3)6(S4+O2)O   \n",
       "3     Abernathyite                       K(U6+O2)As5+O4·3H2O   \n",
       "4         Abhurite                        Sn2+21O6(OH)14Cl16   \n",
       "\n",
       "               IMA Chemistry (plain)          Elements   IMA Number RRUFF IDs  \\\n",
       "0                    NaPb2(CO3)2(OH)       Na Pb C O H  IMA2014-111       NaN   \n",
       "1                         NiC31H32N4          Ni C H N  IMA1975-013   R070007   \n",
       "2  Na26Ce6(Si6O18)(PO4)6(CO3)6(SO2)O  Na Ce Si O P C S  IMA1991-054       NaN   \n",
       "3                  K(UO2)(AsO4)·3H2O        K U O As H          NaN       NaN   \n",
       "4                 Sn2+21O6(OH)14Cl16         Sn O H Cl  IMA1983-061   R060227   \n",
       "\n",
       "        Country  Year First Published              ima_status  \\\n",
       "0         Spain                2014.0                Approved   \n",
       "1           USA                1975.0                Approved   \n",
       "2        Canada                1991.0                Approved   \n",
       "3           USA                1956.0  Grandfathered|Approved   \n",
       "4  Saudi Arabia                1983.0                Approved   \n",
       "\n",
       "  structural_group fleischers_group  \\\n",
       "0                                     \n",
       "1                                     \n",
       "2                                     \n",
       "3    Natroautunite         autunite   \n",
       "4                                     \n",
       "\n",
       "                                        Status Notes crystal_systems  Age_Ma  \n",
       "0  Ibáñez-Insa J, Elvira J J, Llovet X, Pérez-Can...       hexagonal   370.0  \n",
       "1  Milton C, Dwornik E J, Estep-Barnes P A, Finke...       triclinic    56.0  \n",
       "2  McDonald A M, Chao G Y, Grice J D (1994) Abena...       hexagonal   124.0  \n",
       "3  Thompson M E, Ingram B, Gross E B (1956) Abern...      tetragonal   358.9  \n",
       "4  Matzko J J, Evans H T, Mrose M E, Aruscavage P...       hexagonal     0.0  "
      ]
     },
     "execution_count": 434,
     "metadata": {},
     "output_type": "execute_result"
    }
   ],
   "source": [
    "df.head()"
   ]
  },
  {
   "cell_type": "markdown",
   "metadata": {},
   "source": [
    "### Removing Nulls"
   ]
  },
  {
   "cell_type": "code",
   "execution_count": 435,
   "metadata": {},
   "outputs": [
    {
     "data": {
      "text/plain": [
       "Mineral                       0\n",
       "RRUFF Chemistry (plain)       0\n",
       "IMA Chemistry (plain)         4\n",
       "Elements                      4\n",
       "IMA Number                 2104\n",
       "RRUFF IDs                  3499\n",
       "Country                     199\n",
       "Year First Published        202\n",
       "ima_status                  122\n",
       "structural_group              0\n",
       "fleischers_group              0\n",
       "Status Notes                 68\n",
       "crystal_systems             502\n",
       "Age_Ma                      947\n",
       "dtype: int64"
      ]
     },
     "execution_count": 435,
     "metadata": {},
     "output_type": "execute_result"
    }
   ],
   "source": [
    "#fill in the missing values\n",
    "df.isnull().sum()"
   ]
  },
  {
   "cell_type": "markdown",
   "metadata": {},
   "source": [
    "Minerals have no missing values\n",
    "Country has 199 missing values, so fix this"
   ]
  },
  {
   "cell_type": "code",
   "execution_count": 436,
   "metadata": {},
   "outputs": [
    {
     "data": {
      "text/plain": [
       "Mineral                       0\n",
       "RRUFF Chemistry (plain)       0\n",
       "IMA Chemistry (plain)         4\n",
       "Elements                      4\n",
       "IMA Number                 2104\n",
       "RRUFF IDs                  3499\n",
       "Country                       0\n",
       "Year First Published        202\n",
       "ima_status                  122\n",
       "structural_group              0\n",
       "fleischers_group              0\n",
       "Status Notes                 68\n",
       "crystal_systems             502\n",
       "Age_Ma                      947\n",
       "dtype: int64"
      ]
     },
     "execution_count": 436,
     "metadata": {},
     "output_type": "execute_result"
    }
   ],
   "source": [
    "df['Country']=df.Country.fillna(value='unknown')\n",
    "df.isnull().sum()"
   ]
  },
  {
   "cell_type": "code",
   "execution_count": 437,
   "metadata": {},
   "outputs": [
    {
     "data": {
      "text/plain": [
       "USA                                                                             812\n",
       "Russia                                                                          790\n",
       "Italy                                                                           355\n",
       "Germany                                                                         346\n",
       "unknown                                                                         268\n",
       "Canada                                                                          228\n",
       "Sweden                                                                          185\n",
       "Australia                                                                       160\n",
       "Japan                                                                           147\n",
       "Chile                                                                           137\n",
       "China                                                                           129\n",
       "United Kingdom                                                                  125\n",
       "Czech Republic                                                                  124\n",
       "France                                                                          115\n",
       "Namibia                                                                         104\n",
       "Democratic Republic of the Congo                                                 97\n",
       "Norway                                                                           83\n",
       "Switzerland                                                                      83\n",
       "Denmark (Greenland)                                                              79\n",
       "South Africa                                                                     77\n",
       "Brazil                                                                           74\n",
       "Kazakhstan                                                                       74\n",
       "Mexico                                                                           70\n",
       "Tajikistan                                                                       56\n",
       "Argentina                                                                        53\n",
       "Austria                                                                          51\n",
       "Bolivia                                                                          44\n",
       "Greece                                                                           40\n",
       "Romania                                                                          35\n",
       "Spain                                                                            35\n",
       "Israel                                                                           35\n",
       "Finland                                                                          34\n",
       "Peru                                                                             31\n",
       "Morocco                                                                          21\n",
       "Poland                                                                           20\n",
       "Belgium                                                                          19\n",
       "Mexico (meteorite)                                                               18\n",
       "Slovakia                                                                         18\n",
       "Uzbekistan                                                                       17\n",
       "Madagascar                                                                       17\n",
       "North Macedonia                                                                  17\n",
       "Antarctica                                                                       17\n",
       "India                                                                            16\n",
       "Kyrgyzstan                                                                       16\n",
       "Tanzania                                                                         13\n",
       "Russia (meteorite)                                                               13\n",
       "New Zealand                                                                      12\n",
       "Turkey                                                                           12\n",
       "Portugal                                                                         12\n",
       "?                                                                                11\n",
       "Iran                                                                             10\n",
       "Hungary                                                                          10\n",
       "Ukraine                                                                          10\n",
       "Sri Lanka                                                                        10\n",
       "Bulgaria                                                                          9\n",
       "Morocco (meteorite)                                                               9\n",
       "Gabon                                                                             9\n",
       "USA (meteorite)                                                                   8\n",
       "Iceland                                                                           8\n",
       "El Salvador                                                                       8\n",
       "Zambia                                                                            8\n",
       "Myanmar                                                                           8\n",
       "India (meteorite)                                                                 7\n",
       "Jordan                                                                            7\n",
       "Kenya                                                                             7\n",
       "China (meteorite)                                                                 7\n",
       "Indonesia                                                                         6\n",
       "Uganda                                                                            6\n",
       "Serbia                                                                            6\n",
       "Algeria                                                                           5\n",
       "Rwanda                                                                            5\n",
       "Moon                                                                              5\n",
       "Pakistan                                                                          5\n",
       "Malaysia                                                                          5\n",
       "Guyana                                                                            5\n",
       "Poland (meteorite)                                                                4\n",
       "Mongolia                                                                          4\n",
       "Iraq                                                                              4\n",
       "Guinea                                                                            4\n",
       "Czech Republic / Germany                                                          4\n",
       "Australia (meteorite)                                                             4\n",
       "Venezuela                                                                         4\n",
       "Italy / Switzerland                                                               4\n",
       "Afghanistan                                                                       3\n",
       "Zimbabwe                                                                          3\n",
       "Republic of the Congo                                                             3\n",
       "Dominican Republic                                                                3\n",
       "Azerbaijan (meteorite)                                                            3\n",
       "France (New Caledonia)                                                            3\n",
       "Cuba                                                                              3\n",
       "Botswana                                                                          3\n",
       "Azerbaijan                                                                        3\n",
       "Ireland                                                                           3\n",
       "Slovenia                                                                          3\n",
       "North Korea                                                                       3\n",
       "Armenia                                                                           3\n",
       "Pacific Ocean                                                                     2\n",
       "Burma                                                                             2\n",
       "Kyrgyzstan / Russia                                                               2\n",
       "Canada (meteorite)                                                                2\n",
       "Tunisia                                                                           2\n",
       "Lesotho                                                                           2\n",
       "Austria / Germany / Spain / Switzerland                                           2\n",
       "Georgia                                                                           2\n",
       "Cameroon                                                                          2\n",
       "Germany / Italy                                                                   2\n",
       "Mozambique                                                                        2\n",
       "Colombia                                                                          2\n",
       "USA / Germany                                                                     2\n",
       "Papua New Guinea                                                                  2\n",
       "Italy / USA                                                                       2\n",
       "Switzerland/Italy                                                                 2\n",
       "Denmark (Greenland) / Russia                                                      2\n",
       "Yemen (meteorite)                                                                 2\n",
       "Democratic Republic of the Congo / Namibia                                        1\n",
       "USA / Australia                                                                   1\n",
       "Egypt                                                                             1\n",
       "South Africa (meteorite)                                                          1\n",
       "Austria / Romania                                                                 1\n",
       "Sri Lanka / Czech Republic                                                        1\n",
       "Nigeria (meteorite)                                                               1\n",
       "Russia ?                                                                          1\n",
       "South Korea                                                                       1\n",
       "Puerto Rico                                                                       1\n",
       "Tanzania / South Africa                                                           1\n",
       "Poland / Czech Republic                                                           1\n",
       "IDP (interplanetary dust particle) over USA                                       1\n",
       "Bolivia / France                                                                  1\n",
       "Brasil                                                                            1\n",
       "Russia / Kazakhstan                                                               1\n",
       "Italy / Ukraine                                                                   1\n",
       "Kenya / Turkey                                                                    1\n",
       "Austria / Poland                                                                  1\n",
       "France / Italy                                                                    1\n",
       "Canada / Russia                                                                   1\n",
       "France / Germany                                                                  1\n",
       "Kazakhstan / Russia                                                               1\n",
       "Luxembourg                                                                        1\n",
       "Italy ?                                                                           1\n",
       "Czech Republic / USA                                                              1\n",
       "USA / Italy                                                                       1\n",
       "Italy (meteorite) / Mexico (meteorite)                                            1\n",
       "USA/Germany                                                                       1\n",
       "Canada / Japan                                                                    1\n",
       "Namibia / France                                                                  1\n",
       "Kyrgyzstan / Tajikistan                                                           1\n",
       "Armenia / Kazakhstan                                                              1\n",
       "Libya                                                                             1\n",
       "Senegal                                                                           1\n",
       "Suriname                                                                          1\n",
       "Oman                                                                              1\n",
       "Canada / Germany / USA                                                            1\n",
       "Denmark ?                                                                         1\n",
       "Antarctica (meteorite)                                                            1\n",
       "Ukraine (meteorite)                                                               1\n",
       "France / Iran                                                                     1\n",
       "Iceland / Italy                                                                   1\n",
       "Yemen                                                                             1\n",
       "Switzerland / Austria                                                             1\n",
       "Germany / Russia                                                                  1\n",
       "Indonesia / Russia / USA                                                          1\n",
       "United Kingdom / Italy                                                            1\n",
       "Philippines                                                                       1\n",
       "Turkmenistan                                                                      1\n",
       "Denmark (Faroe Islands)                                                           1\n",
       "Canada / Namibia                                                                  1\n",
       "Israel (meteorite)                                                                1\n",
       "Ghana                                                                             1\n",
       "USA / Germany / Czech Republic                                                    1\n",
       "Democratic Republic of Congo                                                      1\n",
       "Western Sahara (Meteorite)                                                        1\n",
       "France / USA ?                                                                    1\n",
       "Mexico (meteorite) / USA (meteorite)                                              1\n",
       "India (or unknown)                                                                1\n",
       "Russia / Italy                                                                    1\n",
       "Algeria (meteorite) / Israel                                                      1\n",
       "Italy (meteorite)                                                                 1\n",
       "Honduras                                                                          1\n",
       "Ethiopia                                                                          1\n",
       "USA / Barbados                                                                    1\n",
       "Australia (Meteorite)                                                             1\n",
       "Nigeria                                                                           1\n",
       "Brazil/Australia                                                                  1\n",
       "Iceland ?                                                                         1\n",
       "Malawi / Oman (meteorite)                                                         1\n",
       "Algeria (meteorite)                                                               1\n",
       "Paraguay                                                                          1\n",
       "Fiji                                                                              1\n",
       "Jordan / Israel                                                                   1\n",
       "Russia / Norway                                                                   1\n",
       "Burundi                                                                           1\n",
       "Romania / Turkey                                                                  1\n",
       "Kazakhstan / Kyrgyzstan                                                           1\n",
       "India ?                                                                           1\n",
       "Italy (meteorite) / India (meteorite) / Poland (meteorite) / USA (meteorite)      1\n",
       "Switzerland / Australia                                                           1\n",
       "Montenegro                                                                        1\n",
       "Portugal / Germany                                                                1\n",
       "Czech Republic / Slovakia                                                         1\n",
       "Algeria / Poland                                                                  1\n",
       "Taiwan                                                                            1\n",
       "Argentina (meteorite)                                                             1\n",
       "Canada / Mexico / USA                                                             1\n",
       "Australia /South Africa                                                           1\n",
       "Mexico / Germany                                                                  1\n",
       "Russia / Tajikistan                                                               1\n",
       "Iceland / Germany / France / Norway                                               1\n",
       "Chad                                                                              1\n",
       "Belarus                                                                           1\n",
       "Germany ?                                                                         1\n",
       "Australia (meteorite) / Italy (meteorite)                                         1\n",
       "Bosnia and Herzegovina                                                            1\n",
       "Democratic Republic of the Congo / Germany                                        1\n",
       "France / Germany ?                                                                1\n",
       "Saudi Arabia                                                                      1\n",
       "Georgia / Israel                                                                  1\n",
       "China (meteorite) / Chile (meteorite)                                             1\n",
       "New Zealand ?                                                                     1\n",
       "Name: Country, dtype: int64"
      ]
     },
     "execution_count": 437,
     "metadata": {},
     "output_type": "execute_result"
    }
   ],
   "source": [
    "#There are ?, /, (), Moon\n",
    "df['Country'].value_counts()"
   ]
  },
  {
   "cell_type": "code",
   "execution_count": 438,
   "metadata": {},
   "outputs": [],
   "source": [
    "#dfsmall=pd.DataFrame(df, columns = ['Mineral', 'Country'])\n",
    "#dfsmall"
   ]
  },
  {
   "cell_type": "code",
   "execution_count": 439,
   "metadata": {
    "scrolled": false
   },
   "outputs": [],
   "source": [
    "\n",
    "minerals=dfsmall['Country'].str.split(\" / \", n=3, expand=True)\n",
    "#minerals.tail(40)\n",
    "#print(minerals[3].value_counts())\n",
    "#dfsmall['CountryFirst']=minerals[0]\n",
    "#dfsmall['CountrySecond']=minerals[1]\n",
    "#dfsmall['CountryThird']=minerals[2]\n",
    "#dfsmall['CountryFourth']=minerals[3]\n",
    "#df['Country']=df['Country'].str.split(\"/\", n=1, expand=True)\n",
    "#dfsmall['CountryFirst'].value_counts()\n",
    "#minerals.tail(40)\n",
    "#minerals\n",
    "#newdf = minerals.append(dfsmall)\n",
    "#newdf"
   ]
  },
  {
   "cell_type": "code",
   "execution_count": 440,
   "metadata": {
    "scrolled": true
   },
   "outputs": [],
   "source": [
    "countr = df.set_index('Mineral').Country.str.split(' / ', expand=True).stack().reset_index('Mineral').reset_index(drop=True)\n",
    "#countr = df.set_index('Mineral').Country.str.split('/', expand=True).stack().reset_index('Mineral').reset_index(drop=True)\n",
    "countr.columns = ['Mineral', 'Country']\n",
    "#countr['Country'].str.strip()\n",
    "#countr['Country'].value_counts()\n",
    "#countr.drop(countr[countr.Country == 'unknown'].index, inplace=True)"
   ]
  },
  {
   "cell_type": "code",
   "execution_count": 441,
   "metadata": {
    "scrolled": true
   },
   "outputs": [
    {
     "name": "stdout",
     "output_type": "stream",
     "text": [
      "Series([], Name: Country, dtype: int64)\n",
      "meteorite    101\n",
      "Name: Country, dtype: int64\n",
      "Series([], Name: Country, dtype: int64)\n",
      "Series([], Name: Country, dtype: int64)\n",
      "Series([], Name: Country, dtype: int64)\n"
     ]
    }
   ],
   "source": [
    "countr['Country'].str.strip()\n",
    "countr.Country.replace('?','unknown', inplace=True)\n",
    "countr.loc[countr['Country'].str.contains(' \\?', case=False), 'Country'] = 'unknown'\n",
    "#countr.loc[countr['Country'].str.contains(' ', case=False), 'Country'] = 'unknown'\n",
    "countr.loc[countr['Country'].str.contains('meteorite', case=False), 'Country'] = 'meteorite'\n",
    "countr.loc[countr['Country'].str.contains('IDP', case=False), 'Country'] = 'USA' #IDP is planatary dust that landed over the USA\n",
    "#countr[countr['Country']=='?'].Country.value_counts()\n",
    "#countr['Country'].value_counts()[0:20]\n",
    "#print(countr[countr['Country'].str.contains('meteorite', regex=False)])\n",
    "#countr.Country.str.replace(r'(^.*(meteorite).*$)', 'meteorite')\n",
    "#countr['Country'].value_counts()[0:20]\n",
    "print(countr[countr['Country']=='USA (meteorite)'].Country.value_counts())\n",
    "print(countr[countr['Country']=='meteorite'].Country.value_counts())\n",
    "print(countr[countr['Country']=='New Zealand ?'].Country.value_counts()) #drop this....\n",
    "print(countr[countr['Country']=='IDP'].Country.value_counts())\n",
    "print(countr[countr['Country']==''].Country.value_counts())"
   ]
  },
  {
   "cell_type": "code",
   "execution_count": 442,
   "metadata": {},
   "outputs": [
    {
     "data": {
      "text/plain": [
       "USA                                 825\n",
       "Russia                              802\n",
       "Italy                               369\n",
       "Germany                             364\n",
       "unknown                             288\n",
       "Canada                              233\n",
       "Sweden                              185\n",
       "Australia                           162\n",
       "Japan                               148\n",
       "Chile                               137\n",
       "Czech Republic                      133\n",
       "China                               129\n",
       "United Kingdom                      126\n",
       "France                              123\n",
       "Namibia                             107\n",
       "meteorite                           101\n",
       "Democratic Republic of the Congo     99\n",
       "Switzerland                          91\n",
       "Norway                               85\n",
       "Denmark (Greenland)                  81\n",
       "South Africa                         78\n",
       "Kazakhstan                           78\n",
       "Brazil                               74\n",
       "Mexico                               72\n",
       "Tajikistan                           58\n",
       "Austria                              56\n",
       "Argentina                            53\n",
       "Bolivia                              45\n",
       "Greece                               40\n",
       "Israel                               38\n",
       "Romania                              37\n",
       "Spain                                37\n",
       "Finland                              34\n",
       "Peru                                 31\n",
       "Poland                               23\n",
       "Morocco                              21\n",
       "Kyrgyzstan                           20\n",
       "Slovakia                             19\n",
       "Belgium                              19\n",
       "Antarctica                           17\n",
       "North Macedonia                      17\n",
       "Uzbekistan                           17\n",
       "Madagascar                           17\n",
       "India                                16\n",
       "Tanzania                             14\n",
       "Turkey                               14\n",
       "Portugal                             13\n",
       "New Zealand                          12\n",
       "Iran                                 11\n",
       "Ukraine                              11\n",
       "Sri Lanka                            11\n",
       "Iceland                              10\n",
       "Hungary                              10\n",
       "Gabon                                 9\n",
       "Bulgaria                              9\n",
       "Zambia                                8\n",
       "Jordan                                8\n",
       "El Salvador                           8\n",
       "Kenya                                 8\n",
       "Myanmar                               8\n",
       "Indonesia                             7\n",
       "Serbia                                6\n",
       "Algeria                               6\n",
       "Uganda                                6\n",
       "Malaysia                              5\n",
       "Pakistan                              5\n",
       "Rwanda                                5\n",
       "Guyana                                5\n",
       "Moon                                  5\n",
       "Armenia                               4\n",
       "Iraq                                  4\n",
       "Mongolia                              4\n",
       "Venezuela                             4\n",
       "Guinea                                4\n",
       "Republic of the Congo                 3\n",
       "North Korea                           3\n",
       "France (New Caledonia)                3\n",
       "Azerbaijan                            3\n",
       "Ireland                               3\n",
       "Georgia                               3\n",
       "Afghanistan                           3\n",
       "Botswana                              3\n",
       "Dominican Republic                    3\n",
       "Zimbabwe                              3\n",
       "Cuba                                  3\n",
       "Slovenia                              3\n",
       "Colombia                              2\n",
       "Papua New Guinea                      2\n",
       "Burma                                 2\n",
       "Pacific Ocean                         2\n",
       "Mozambique                            2\n",
       "Tunisia                               2\n",
       "Cameroon                              2\n",
       "Switzerland/Italy                     2\n",
       "Lesotho                               2\n",
       "Turkmenistan                          1\n",
       "USA/Germany                           1\n",
       "Philippines                           1\n",
       "Nigeria                               1\n",
       "Malawi                                1\n",
       "Luxembourg                            1\n",
       "Puerto Rico                           1\n",
       "Oman                                  1\n",
       "Brasil                                1\n",
       "Honduras                              1\n",
       "Egypt                                 1\n",
       "Brazil/Australia                      1\n",
       "Ethiopia                              1\n",
       "Australia /South Africa               1\n",
       "Chad                                  1\n",
       "Libya                                 1\n",
       "Barbados                              1\n",
       "Taiwan                                1\n",
       "Paraguay                              1\n",
       "Yemen                                 1\n",
       "Ghana                                 1\n",
       "India (or unknown)                    1\n",
       "Belarus                               1\n",
       "Bosnia and Herzegovina                1\n",
       "Burundi                               1\n",
       "Suriname                              1\n",
       "Montenegro                            1\n",
       "Senegal                               1\n",
       "Democratic Republic of Congo          1\n",
       "Denmark (Faroe Islands)               1\n",
       "Saudi Arabia                          1\n",
       "South Korea                           1\n",
       "Fiji                                  1\n",
       "Name: Country, dtype: int64"
      ]
     },
     "execution_count": 442,
     "metadata": {},
     "output_type": "execute_result"
    }
   ],
   "source": [
    "countr['Country'].value_counts()\n",
    "#I still have some data integrity issues, not all my countries split correctly, but I can always come back and refine it\n"
   ]
  },
  {
   "cell_type": "code",
   "execution_count": 443,
   "metadata": {},
   "outputs": [],
   "source": [
    "#cleaning before plotting\n",
    "countr.drop(countr[countr.Country == 'unknown'].index, inplace=True) #change blanks to unknown country values"
   ]
  },
  {
   "cell_type": "code",
   "execution_count": 444,
   "metadata": {},
   "outputs": [
    {
     "data": {
      "image/png": "[encoded data removed]",
      "text/plain": [
       "<Figure size 432x288 with 1 Axes>"
      ]
     },
     "metadata": {},
     "output_type": "display_data"
    }
   ],
   "source": [
    "countr['Country'].value_counts()[0:10].sort_values().plot(kind='barh')\n",
    "plt.xlabel(\"Count of occurancies\")\n",
    "plt.ylabel(\"Country\")\n",
    "plt.title(\"Count countries by minerals\");"
   ]
  },
  {
   "cell_type": "code",
   "execution_count": 445,
   "metadata": {},
   "outputs": [
    {
     "data": {
      "text/plain": [
       "(5538, 2)"
      ]
     },
     "execution_count": 445,
     "metadata": {},
     "output_type": "execute_result"
    }
   ],
   "source": [
    "#type(countr)\n",
    "countr.shape"
   ]
  },
  {
   "cell_type": "code",
   "execution_count": 446,
   "metadata": {},
   "outputs": [
    {
     "data": {
      "text/plain": [
       "(127,)"
      ]
     },
     "execution_count": 446,
     "metadata": {},
     "output_type": "execute_result"
    }
   ],
   "source": [
    "#countr[countr['Country']=='?'].Country.value_counts()\n",
    "#countr[countr['Country']=='USA (meteorite)'].Country.value_counts()\n",
    "#countr.groupby('Country').describe()\n",
    "#there's further ways to refine the data, like Moon is listed as a country, and the meteorites are listed as a\n",
    "#seperate country- but I'll stick to the goal/scope of the model for now and refine this later\n",
    "countr.groupby('Country').Country.count().shape\n",
    "#countr.head(5547)\n",
    "\n",
    "#pd.set_option(\"display.max_rows\", None, \"display.max_columns\", None)\n",
    "#print(countr[1])\n",
    "#countr"
   ]
  },
  {
   "cell_type": "markdown",
   "metadata": {},
   "source": [
    "From refining the data set, we can see the following\n",
    "\n",
    "- There are 127 rows/ countries listed (bear with me)\n",
    "- There are 5538 minerals listed that we've refined\n",
    "\n",
    "The quantity of minerals listed are about the same for the USA and Russia, which makes sense since Fleisher dedicated most of his life translating these documents and affiliated mineralogical content."
   ]
  },
  {
   "cell_type": "markdown",
   "metadata": {},
   "source": [
    "## Classification Models"
   ]
  },
  {
   "cell_type": "markdown",
   "metadata": {},
   "source": [
    "### KNN Classification"
   ]
  },
  {
   "cell_type": "code",
   "execution_count": 505,
   "metadata": {},
   "outputs": [
    {
     "data": {
      "text/html": [
       "<div>\n",
       "<style scoped>\n",
       "    .dataframe tbody tr th:only-of-type {\n",
       "        vertical-align: middle;\n",
       "    }\n",
       "\n",
       "    .dataframe tbody tr th {\n",
       "        vertical-align: top;\n",
       "    }\n",
       "\n",
       "    .dataframe thead th {\n",
       "        text-align: right;\n",
       "    }\n",
       "</style>\n",
       "<table border=\"1\" class=\"dataframe\">\n",
       "  <thead>\n",
       "    <tr style=\"text-align: right;\">\n",
       "      <th></th>\n",
       "      <th>Mineral</th>\n",
       "      <th>Country</th>\n",
       "      <th>isUSA</th>\n",
       "    </tr>\n",
       "  </thead>\n",
       "  <tbody>\n",
       "    <tr>\n",
       "      <th>0</th>\n",
       "      <td>Abellaite</td>\n",
       "      <td>Spain</td>\n",
       "      <td>0.0</td>\n",
       "    </tr>\n",
       "    <tr>\n",
       "      <th>1</th>\n",
       "      <td>Abelsonite</td>\n",
       "      <td>USA</td>\n",
       "      <td>1.0</td>\n",
       "    </tr>\n",
       "    <tr>\n",
       "      <th>2</th>\n",
       "      <td>Abenakiite-(Ce)</td>\n",
       "      <td>Canada</td>\n",
       "      <td>0.0</td>\n",
       "    </tr>\n",
       "    <tr>\n",
       "      <th>3</th>\n",
       "      <td>Abernathyite</td>\n",
       "      <td>USA</td>\n",
       "      <td>1.0</td>\n",
       "    </tr>\n",
       "    <tr>\n",
       "      <th>4</th>\n",
       "      <td>Abhurite</td>\n",
       "      <td>Saudi Arabia</td>\n",
       "      <td>0.0</td>\n",
       "    </tr>\n",
       "    <tr>\n",
       "      <th>5</th>\n",
       "      <td>Abramovite</td>\n",
       "      <td>Russia</td>\n",
       "      <td>2.0</td>\n",
       "    </tr>\n",
       "    <tr>\n",
       "      <th>6</th>\n",
       "      <td>Abswurmbachite</td>\n",
       "      <td>Greece</td>\n",
       "      <td>0.0</td>\n",
       "    </tr>\n",
       "    <tr>\n",
       "      <th>7</th>\n",
       "      <td>Abuite</td>\n",
       "      <td>Japan</td>\n",
       "      <td>0.0</td>\n",
       "    </tr>\n",
       "    <tr>\n",
       "      <th>8</th>\n",
       "      <td>Acanthite</td>\n",
       "      <td>Czech Republic</td>\n",
       "      <td>0.0</td>\n",
       "    </tr>\n",
       "    <tr>\n",
       "      <th>9</th>\n",
       "      <td>Acetamide</td>\n",
       "      <td>Ukraine</td>\n",
       "      <td>0.0</td>\n",
       "    </tr>\n",
       "  </tbody>\n",
       "</table>\n",
       "</div>"
      ],
      "text/plain": [
       "           Mineral         Country  isUSA\n",
       "0        Abellaite           Spain    0.0\n",
       "1       Abelsonite             USA    1.0\n",
       "2  Abenakiite-(Ce)          Canada    0.0\n",
       "3     Abernathyite             USA    1.0\n",
       "4         Abhurite    Saudi Arabia    0.0\n",
       "5       Abramovite          Russia    2.0\n",
       "6   Abswurmbachite          Greece    0.0\n",
       "7           Abuite           Japan    0.0\n",
       "8        Acanthite  Czech Republic    0.0\n",
       "9        Acetamide         Ukraine    0.0"
      ]
     },
     "execution_count": 505,
     "metadata": {},
     "output_type": "execute_result"
    }
   ],
   "source": [
    "countr['isUSA']=countr.Country.map({'USA':1, 'Russia':2, 'Italy':3}) #sticking to binary classification\n",
    "countr['isUSA'].fillna(0, inplace = True) \n",
    "countr.head(10)"
   ]
  },
  {
   "cell_type": "code",
   "execution_count": 575,
   "metadata": {},
   "outputs": [
    {
     "data": {
      "text/plain": [
       "(2250, 3)"
      ]
     },
     "execution_count": 575,
     "metadata": {},
     "output_type": "execute_result"
    }
   ],
   "source": [
    "#Parameters - dedicate the testing portions 50/50\n",
    "portion = countr[:2250] #for the training set\n",
    "portion_test = countr[2250:] #for the testing set \n",
    "\n",
    "#set X and Y- create it based on a portion of the data set\n",
    "#create a response vector\n",
    "y=portion.Country\n",
    "#make the features\n",
    "# create feature matrix (X)\n",
    "feature_cols = ['isUSA']\n",
    "X = portion[feature_cols]\n",
    "portion.shape"
   ]
  },
  {
   "cell_type": "code",
   "execution_count": 519,
   "metadata": {},
   "outputs": [
    {
     "data": {
      "text/plain": [
       "KNeighborsClassifier(algorithm='auto', leaf_size=30, metric='minkowski',\n",
       "                     metric_params=None, n_jobs=None, n_neighbors=100, p=2,\n",
       "                     weights='uniform')"
      ]
     },
     "execution_count": 519,
     "metadata": {},
     "output_type": "execute_result"
    }
   ],
   "source": [
    "#Importing Classification model\n",
    "from sklearn.neighbors import KNeighborsClassifier\n",
    "# instantiate KNeighborsClassifier - default is K=5, come back around to change this\n",
    "knn=KNeighborsClassifier(n_neighbors=100)\n",
    "#fit the model with data\n",
    "knn.fit(X,y)"
   ]
  },
  {
   "cell_type": "code",
   "execution_count": 520,
   "metadata": {},
   "outputs": [
    {
     "data": {
      "text/plain": [
       "array(['Germany', 'USA', 'Germany', ..., 'Russia', 'Russia', 'USA'],\n",
       "      dtype=object)"
      ]
     },
     "execution_count": 520,
     "metadata": {},
     "output_type": "execute_result"
    }
   ],
   "source": [
    "#Make a prediction on the probability of which country the mineral is from \n",
    "knn.predict(X)"
   ]
  },
  {
   "cell_type": "code",
   "execution_count": 521,
   "metadata": {},
   "outputs": [
    {
     "data": {
      "text/plain": [
       "array([[0.01, 0.  , 0.  , ..., 0.  , 0.  , 0.06],\n",
       "       [0.  , 0.  , 0.  , ..., 0.  , 0.  , 0.  ],\n",
       "       [0.01, 0.  , 0.  , ..., 0.  , 0.  , 0.06],\n",
       "       ...,\n",
       "       [0.  , 0.  , 0.  , ..., 0.  , 0.  , 0.  ],\n",
       "       [0.  , 0.  , 0.  , ..., 0.  , 0.  , 0.  ],\n",
       "       [0.  , 0.  , 0.  , ..., 0.  , 0.  , 0.  ]])"
      ]
     },
     "execution_count": 521,
     "metadata": {},
     "output_type": "execute_result"
    }
   ],
   "source": [
    "# calculate predicted probabilities\n",
    "knn.predict_proba(X)"
   ]
  },
  {
   "cell_type": "code",
   "execution_count": 525,
   "metadata": {},
   "outputs": [],
   "source": [
    "predictions = knn.predict(X)"
   ]
  },
  {
   "cell_type": "code",
   "execution_count": 526,
   "metadata": {},
   "outputs": [
    {
     "name": "stdout",
     "output_type": "stream",
     "text": [
      "0.43066666666666664\n"
     ]
    }
   ],
   "source": [
    "# compute classification accuracy - because we didn't use test/train split and used the train data to make the outcome\n",
    "print(metrics.accuracy_score(y, predictions))"
   ]
  },
  {
   "cell_type": "code",
   "execution_count": 527,
   "metadata": {},
   "outputs": [
    {
     "data": {
      "text/plain": [
       "array(['Germany', 'Germany', 'USA', ..., 'Russia', 'Germany', 'Germany'],\n",
       "      dtype=object)"
      ]
     },
     "execution_count": 527,
     "metadata": {},
     "output_type": "execute_result"
    }
   ],
   "source": [
    "#Look to the accuracy score\n",
    "X_test = portion_test[feature_cols]\n",
    "y_test = portion_test.Country\n",
    "predictions = knn.predict(X_test)\n",
    "predictions"
   ]
  },
  {
   "cell_type": "code",
   "execution_count": 528,
   "metadata": {},
   "outputs": [
    {
     "data": {
      "text/plain": [
       "0.4230535279805353"
      ]
     },
     "execution_count": 528,
     "metadata": {},
     "output_type": "execute_result"
    }
   ],
   "source": [
    "\n",
    "metrics.accuracy_score(y_test, predictions)"
   ]
  },
  {
   "cell_type": "markdown",
   "metadata": {},
   "source": [
    "- This is horrible\n",
    "- This time, we'll use the whole data set, and the train test split function"
   ]
  },
  {
   "cell_type": "code",
   "execution_count": 591,
   "metadata": {},
   "outputs": [],
   "source": [
    "#create a response vector\n",
    "y=countr.Country\n",
    "#make the features\n",
    "# create feature matrix (X)\n",
    "feature_cols = ['isUSA']\n",
    "X = countr[feature_cols]"
   ]
  },
  {
   "cell_type": "code",
   "execution_count": 605,
   "metadata": {},
   "outputs": [
    {
     "data": {
      "text/plain": [
       "0.4505415162454874"
      ]
     },
     "execution_count": 605,
     "metadata": {},
     "output_type": "execute_result"
    }
   ],
   "source": [
    "#let's use test train split\n",
    "from sklearn.model_selection import train_test_split\n",
    "X_train, X_test, y_train, y_test = train_test_split(X, y, random_state=42)  #if random_state=42, accuracy is 45 -not used, is 42\n",
    "knn = KNeighborsClassifier(n_neighbors=50)\n",
    "knn.fit(X_train, y_train)\n",
    "predictions = knn.predict(X_test)\n",
    "metrics.accuracy_score(y_test, predictions)"
   ]
  },
  {
   "cell_type": "markdown",
   "metadata": {},
   "source": [
    "It's not much better"
   ]
  },
  {
   "cell_type": "code",
   "execution_count": 606,
   "metadata": {},
   "outputs": [
    {
     "data": {
      "text/plain": [
       "Russia                              214\n",
       "USA                                 207\n",
       "Germany                             102\n",
       "Italy                               101\n",
       "Canada                               55\n",
       "Sweden                               45\n",
       "Japan                                42\n",
       "United Kingdom                       39\n",
       "Australia                            34\n",
       "China                                31\n",
       "France                               31\n",
       "Czech Republic                       29\n",
       "Chile                                28\n",
       "Namibia                              24\n",
       "meteorite                            22\n",
       "South Africa                         21\n",
       "Switzerland                          21\n",
       "Norway                               20\n",
       "Mexico                               19\n",
       "Democratic Republic of the Congo     19\n",
       "Kazakhstan                           19\n",
       "Denmark (Greenland)                  19\n",
       "Austria                              16\n",
       "Argentina                            14\n",
       "Bolivia                              14\n",
       "Tajikistan                           13\n",
       "Brazil                               13\n",
       "Poland                               11\n",
       "Romania                              11\n",
       "Finland                              11\n",
       "Israel                               11\n",
       "Slovakia                             10\n",
       "Greece                                9\n",
       "Spain                                 8\n",
       "Belgium                               7\n",
       "Kyrgyzstan                            7\n",
       "Peru                                  6\n",
       "Madagascar                            5\n",
       "Morocco                               5\n",
       "Ukraine                               5\n",
       "India                                 4\n",
       "North Macedonia                       4\n",
       "Algeria                               4\n",
       "Antarctica                            4\n",
       "Hungary                               3\n",
       "Gabon                                 3\n",
       "Jordan                                3\n",
       "Serbia                                2\n",
       "Mongolia                              2\n",
       "Uzbekistan                            2\n",
       "Portugal                              2\n",
       "Indonesia                             2\n",
       "Iran                                  2\n",
       "Sri Lanka                             2\n",
       "Turkmenistan                          1\n",
       "New Zealand                           1\n",
       "Cameroon                              1\n",
       "Republic of the Congo                 1\n",
       "Turkey                                1\n",
       "Uganda                                1\n",
       "Belarus                               1\n",
       "Botswana                              1\n",
       "Philippines                           1\n",
       "Switzerland/Italy                     1\n",
       "Iceland                               1\n",
       "Tunisia                               1\n",
       "Afghanistan                           1\n",
       "South Korea                           1\n",
       "Burma                                 1\n",
       "Ghana                                 1\n",
       "Moon                                  1\n",
       "North Korea                           1\n",
       "Honduras                              1\n",
       "France (New Caledonia)                1\n",
       "Luxembourg                            1\n",
       "Bulgaria                              1\n",
       "El Salvador                           1\n",
       "Kenya                                 1\n",
       "Azerbaijan                            1\n",
       "Malaysia                              1\n",
       "Myanmar                               1\n",
       "Armenia                               1\n",
       "Name: Country, dtype: int64"
      ]
     },
     "execution_count": 606,
     "metadata": {},
     "output_type": "execute_result"
    }
   ],
   "source": [
    "y_test.value_counts()"
   ]
  },
  {
   "cell_type": "code",
   "execution_count": 607,
   "metadata": {},
   "outputs": [
    {
     "data": {
      "text/plain": [
       "Russia    0.154513\n",
       "Name: Country, dtype: float64"
      ]
     },
     "execution_count": 607,
     "metadata": {},
     "output_type": "execute_result"
    }
   ],
   "source": [
    "# compute null accuracy\n",
    "y_test.value_counts().head(1) / len(y_test)"
   ]
  },
  {
   "cell_type": "code",
   "execution_count": 608,
   "metadata": {},
   "outputs": [
    {
     "data": {
      "text/plain": [
       "Text(0, 0.5, 'Accuracy (higher is better)')"
      ]
     },
     "execution_count": 608,
     "metadata": {},
     "output_type": "execute_result"
    },
    {
     "data": {
      "image/png": "[encoded data removed]",
      "text/plain": [
       "<Figure size 432x288 with 1 Axes>"
      ]
     },
     "metadata": {},
     "output_type": "display_data"
    }
   ],
   "source": [
    "#looking for the best K value\n",
    "k_range = range(1, 100)\n",
    "testing_accuracy = []\n",
    "\n",
    "for k in k_range:\n",
    "    # instantiate the model with the current K value\n",
    "    knn = KNeighborsClassifier(n_neighbors=k)\n",
    "    # fit to build the model\n",
    "    knn.fit(X_train, y_train)\n",
    "    # store predictions\n",
    "    predictions = knn.predict(X_test)\n",
    "    # calculate the accuracy score for the model\n",
    "    accuracy_score = metrics.accuracy_score(y_test, predictions)\n",
    "    # store the accuracy of the model\n",
    "    testing_accuracy.append(accuracy_score)\n",
    "    \n",
    "# create a DataFrame of K, training error, and testing error\n",
    "column_dict = {'K': k_range, 'testing_accuracy':testing_accuracy}\n",
    "portion\n",
    "df = pd.DataFrame(column_dict)\n",
    "df.head()\n",
    "\n",
    "# plot the relationship between K (HIGH TO LOW) and TESTING ERROR\n",
    "df.plot(y='testing_accuracy')\n",
    "plt.xlabel('Value of K for KNN')\n",
    "plt.ylabel('Accuracy (higher is better)')"
   ]
  },
  {
   "cell_type": "markdown",
   "metadata": {},
   "source": [
    "- So we can conclude a KNN value of ~100 will give us accuracy about 40% of the time on being able to predict if a mineral is from the USA\n",
    "- The data is more reproducible when using a random state as well\n",
    "\n",
    "\n",
    "Now, we can look to cross validation, which helps us by building multiple train test splits"
   ]
  },
  {
   "cell_type": "code",
   "execution_count": 609,
   "metadata": {},
   "outputs": [
    {
     "name": "stderr",
     "output_type": "stream",
     "text": [
      "/Users/karenpaklin/opt/anaconda3/lib/python3.7/site-packages/sklearn/model_selection/_split.py:667: UserWarning: The least populated class in y has only 1 members, which is less than n_splits=10.\n",
      "  % (min_groups, self.n_splits)), UserWarning)\n"
     ]
    },
    {
     "name": "stdout",
     "output_type": "stream",
     "text": [
      "The cross_val scores are: [0.42779783 0.42599278 0.42238267 0.42418773 0.42418773 0.42418773\n",
      " 0.42599278 0.42960289 0.42857143 0.42857143] \n",
      "\n",
      "The mean of the cross_val scores is: 0.42614749871067553\n"
     ]
    }
   ],
   "source": [
    "from sklearn.model_selection import cross_val_score\n",
    "\n",
    "# fit the knn model multiple times using cross validation\n",
    "scores = cross_val_score(knn, X, y, cv=10, scoring='accuracy')\n",
    "\n",
    "print('The cross_val scores are: {}'.format(scores), '\\n')\n",
    "print('The mean of the cross_val scores is: {}'.format(scores.mean()))"
   ]
  },
  {
   "cell_type": "code",
   "execution_count": 610,
   "metadata": {},
   "outputs": [
    {
     "data": {
      "text/plain": [
       "Text(0, 0.5, 'Error (lower is better)')"
      ]
     },
     "execution_count": 610,
     "metadata": {},
     "output_type": "execute_result"
    },
    {
     "data": {
      "image/png": "[encoded data removed]",
      "text/plain": [
       "<Figure size 432x288 with 1 Axes>"
      ]
     },
     "metadata": {},
     "output_type": "display_data"
    }
   ],
   "source": [
    "#we can analyze error as well\n",
    "# plot the relationship between K (HIGH TO LOW) and both TRAINING ERROR and TESTING ERROR\n",
    "df.plot()\n",
    "plt.xlabel('Value of K for KNN')\n",
    "plt.ylabel('Error (lower is better)')"
   ]
  },
  {
   "cell_type": "code",
   "execution_count": 620,
   "metadata": {},
   "outputs": [
    {
     "data": {
      "text/plain": [
       "0.4505415162454874"
      ]
     },
     "execution_count": 620,
     "metadata": {},
     "output_type": "execute_result"
    }
   ],
   "source": [
    "# recall\n",
    "#print(\"Recall Score : \",recall_score(y_test, predictions)\n",
    "metrics.recall_score(y_test, predictions, average='weighted')"
   ]
  },
  {
   "cell_type": "code",
   "execution_count": 621,
   "metadata": {},
   "outputs": [
    {
     "data": {
      "text/plain": [
       "0.3855997255815705"
      ]
     },
     "execution_count": 621,
     "metadata": {},
     "output_type": "execute_result"
    }
   ],
   "source": [
    "# precision\n",
    "metrics.precision_score(y_test, predictions, average='weighted')"
   ]
  },
  {
   "cell_type": "code",
   "execution_count": 622,
   "metadata": {},
   "outputs": [
    {
     "data": {
      "text/plain": [
       "0.3924640392061503"
      ]
     },
     "execution_count": 622,
     "metadata": {},
     "output_type": "execute_result"
    }
   ],
   "source": [
    "# f1 score\n",
    "metrics.f1_score(y_test, predictions, average='weighted')"
   ]
  },
  {
   "cell_type": "code",
   "execution_count": 623,
   "metadata": {},
   "outputs": [
    {
     "data": {
      "text/plain": [
       "array([[0, 0, 0, ..., 0, 0, 0],\n",
       "       [0, 0, 0, ..., 0, 0, 0],\n",
       "       [0, 0, 0, ..., 0, 0, 0],\n",
       "       ...,\n",
       "       [0, 0, 0, ..., 0, 0, 0],\n",
       "       [0, 0, 0, ..., 0, 0, 0],\n",
       "       [0, 0, 0, ..., 0, 0, 0]])"
      ]
     },
     "execution_count": 623,
     "metadata": {},
     "output_type": "execute_result"
    }
   ],
   "source": [
    "# confusion matrix\n",
    "metrics.confusion_matrix(y_test, predictions)"
   ]
  },
  {
   "cell_type": "code",
   "execution_count": 624,
   "metadata": {},
   "outputs": [
    {
     "ename": "ValueError",
     "evalue": "too many values to unpack (expected 4)",
     "output_type": "error",
     "traceback": [
      "\u001b[0;31m---------------------------------------------------------------------------\u001b[0m",
      "\u001b[0;31mValueError\u001b[0m                                Traceback (most recent call last)",
      "\u001b[0;32m<ipython-input-624-0fbc9731811d>\u001b[0m in \u001b[0;36m<module>\u001b[0;34m\u001b[0m\n\u001b[1;32m      1\u001b[0m \u001b[0;31m# extract confusion matrix results\u001b[0m\u001b[0;34m\u001b[0m\u001b[0;34m\u001b[0m\u001b[0;34m\u001b[0m\u001b[0m\n\u001b[0;32m----> 2\u001b[0;31m \u001b[0mtn\u001b[0m\u001b[0;34m,\u001b[0m \u001b[0mfp\u001b[0m\u001b[0;34m,\u001b[0m \u001b[0mfn\u001b[0m\u001b[0;34m,\u001b[0m \u001b[0mtp\u001b[0m \u001b[0;34m=\u001b[0m \u001b[0mmetrics\u001b[0m\u001b[0;34m.\u001b[0m\u001b[0mconfusion_matrix\u001b[0m\u001b[0;34m(\u001b[0m\u001b[0my_test\u001b[0m\u001b[0;34m,\u001b[0m \u001b[0mpredictions\u001b[0m\u001b[0;34m)\u001b[0m\u001b[0;34m.\u001b[0m\u001b[0mravel\u001b[0m\u001b[0;34m(\u001b[0m\u001b[0;34m)\u001b[0m\u001b[0;34m\u001b[0m\u001b[0;34m\u001b[0m\u001b[0m\n\u001b[0m\u001b[1;32m      3\u001b[0m \u001b[0mprint\u001b[0m\u001b[0;34m(\u001b[0m\u001b[0;34m'TN:{} | FP:{} | FN:{} | TP:{}'\u001b[0m\u001b[0;34m.\u001b[0m\u001b[0mformat\u001b[0m\u001b[0;34m(\u001b[0m\u001b[0mtn\u001b[0m\u001b[0;34m,\u001b[0m \u001b[0mfp\u001b[0m\u001b[0;34m,\u001b[0m \u001b[0mfn\u001b[0m\u001b[0;34m,\u001b[0m \u001b[0mtp\u001b[0m\u001b[0;34m)\u001b[0m\u001b[0;34m)\u001b[0m\u001b[0;34m\u001b[0m\u001b[0;34m\u001b[0m\u001b[0m\n",
      "\u001b[0;31mValueError\u001b[0m: too many values to unpack (expected 4)"
     ]
    }
   ],
   "source": [
    "# extract confusion matrix results\n",
    "tn, fp, fn, tp = metrics.confusion_matrix(y_test, predictions).ravel()\n",
    "print('TN:{} | FP:{} | FN:{} | TP:{}'.format(tn, fp, fn, tp))"
   ]
  },
  {
   "cell_type": "code",
   "execution_count": 625,
   "metadata": {},
   "outputs": [
    {
     "name": "stdout",
     "output_type": "stream",
     "text": [
      "                                  precision    recall  f1-score   support\n",
      "\n",
      "                     Afghanistan       0.00      0.00      0.00         1\n",
      "                         Algeria       0.00      0.00      0.00         4\n",
      "                      Antarctica       0.00      0.00      0.00         4\n",
      "                       Argentina       0.00      0.00      0.00        14\n",
      "                         Armenia       0.00      0.00      0.00         1\n",
      "                       Australia       0.00      0.00      0.00        34\n",
      "                         Austria       0.00      0.00      0.00        16\n",
      "                      Azerbaijan       0.00      0.00      0.00         1\n",
      "                         Belarus       0.00      0.00      0.00         1\n",
      "                         Belgium       0.00      0.00      0.00         7\n",
      "                         Bolivia       0.00      0.00      0.00        14\n",
      "                        Botswana       0.00      0.00      0.00         1\n",
      "                          Brazil       0.00      0.00      0.00        13\n",
      "                        Bulgaria       0.00      0.00      0.00         1\n",
      "                           Burma       0.00      0.00      0.00         1\n",
      "                        Cameroon       0.00      0.00      0.00         1\n",
      "                          Canada       0.00      0.00      0.00        55\n",
      "                           Chile       0.00      0.00      0.00        28\n",
      "                           China       0.00      0.00      0.00        31\n",
      "                  Czech Republic       0.00      0.00      0.00        29\n",
      "Democratic Republic of the Congo       0.00      0.00      0.00        19\n",
      "             Denmark (Greenland)       0.00      0.00      0.00        19\n",
      "                     El Salvador       0.00      0.00      0.00         1\n",
      "                         Finland       0.00      0.00      0.00        11\n",
      "                          France       0.00      0.00      0.00        31\n",
      "          France (New Caledonia)       0.00      0.00      0.00         1\n",
      "                           Gabon       0.00      0.00      0.00         3\n",
      "                         Germany       0.12      1.00      0.21       102\n",
      "                           Ghana       0.00      0.00      0.00         1\n",
      "                          Greece       0.00      0.00      0.00         9\n",
      "                        Honduras       0.00      0.00      0.00         1\n",
      "                         Hungary       0.00      0.00      0.00         3\n",
      "                         Iceland       0.00      0.00      0.00         1\n",
      "                           India       0.00      0.00      0.00         4\n",
      "                       Indonesia       0.00      0.00      0.00         2\n",
      "                            Iran       0.00      0.00      0.00         2\n",
      "                          Israel       0.00      0.00      0.00        11\n",
      "                           Italy       1.00      1.00      1.00       101\n",
      "                           Japan       0.00      0.00      0.00        42\n",
      "                          Jordan       0.00      0.00      0.00         3\n",
      "                      Kazakhstan       0.00      0.00      0.00        19\n",
      "                           Kenya       0.00      0.00      0.00         1\n",
      "                      Kyrgyzstan       0.00      0.00      0.00         7\n",
      "                      Luxembourg       0.00      0.00      0.00         1\n",
      "                      Madagascar       0.00      0.00      0.00         5\n",
      "                        Malaysia       0.00      0.00      0.00         1\n",
      "                          Mexico       0.00      0.00      0.00        19\n",
      "                        Mongolia       0.00      0.00      0.00         2\n",
      "                            Moon       0.00      0.00      0.00         1\n",
      "                         Morocco       0.00      0.00      0.00         5\n",
      "                         Myanmar       0.00      0.00      0.00         1\n",
      "                         Namibia       0.00      0.00      0.00        24\n",
      "                     New Zealand       0.00      0.00      0.00         1\n",
      "                     North Korea       0.00      0.00      0.00         1\n",
      "                 North Macedonia       0.00      0.00      0.00         4\n",
      "                          Norway       0.00      0.00      0.00        20\n",
      "                            Peru       0.00      0.00      0.00         6\n",
      "                     Philippines       0.00      0.00      0.00         1\n",
      "                          Poland       0.00      0.00      0.00        11\n",
      "                        Portugal       0.00      0.00      0.00         2\n",
      "           Republic of the Congo       0.00      0.00      0.00         1\n",
      "                         Romania       0.00      0.00      0.00        11\n",
      "                          Russia       1.00      1.00      1.00       214\n",
      "                          Serbia       0.00      0.00      0.00         2\n",
      "                        Slovakia       0.00      0.00      0.00        10\n",
      "                    South Africa       0.00      0.00      0.00        21\n",
      "                     South Korea       0.00      0.00      0.00         1\n",
      "                           Spain       0.00      0.00      0.00         8\n",
      "                       Sri Lanka       0.00      0.00      0.00         2\n",
      "                          Sweden       0.00      0.00      0.00        45\n",
      "                     Switzerland       0.00      0.00      0.00        21\n",
      "               Switzerland/Italy       0.00      0.00      0.00         1\n",
      "                      Tajikistan       0.00      0.00      0.00        13\n",
      "                         Tunisia       0.00      0.00      0.00         1\n",
      "                          Turkey       0.00      0.00      0.00         1\n",
      "                    Turkmenistan       0.00      0.00      0.00         1\n",
      "                             USA       1.00      1.00      1.00       207\n",
      "                          Uganda       0.00      0.00      0.00         1\n",
      "                         Ukraine       0.00      0.00      0.00         5\n",
      "                  United Kingdom       0.00      0.00      0.00        39\n",
      "                      Uzbekistan       0.00      0.00      0.00         2\n",
      "                       meteorite       0.00      0.00      0.00        22\n",
      "\n",
      "                        accuracy                           0.45      1385\n",
      "                       macro avg       0.04      0.05      0.04      1385\n",
      "                    weighted avg       0.39      0.45      0.39      1385\n",
      "\n"
     ]
    },
    {
     "name": "stderr",
     "output_type": "stream",
     "text": [
      "/Users/karenpaklin/opt/anaconda3/lib/python3.7/site-packages/sklearn/metrics/_classification.py:1272: UndefinedMetricWarning: Precision and F-score are ill-defined and being set to 0.0 in labels with no predicted samples. Use `zero_division` parameter to control this behavior.\n",
      "  _warn_prf(average, modifier, msg_start, len(result))\n"
     ]
    }
   ],
   "source": [
    "# classification report\n",
    "print(metrics.classification_report(y_test, predictions))"
   ]
  },
  {
   "cell_type": "code",
   "execution_count": null,
   "metadata": {},
   "outputs": [],
   "source": []
  },
  {
   "cell_type": "markdown",
   "metadata": {},
   "source": [
    "- **Training error** decreases as model complexity increases (lower value of K)\n",
    "- **Testing error** is minimized at the optimum model complexity"
   ]
  },
  {
   "cell_type": "code",
   "execution_count": 469,
   "metadata": {},
   "outputs": [],
   "source": [
    "#remove discredited minerals"
   ]
  },
  {
   "cell_type": "markdown",
   "metadata": {},
   "source": [
    "## Sources of Reference"
   ]
  },
  {
   "cell_type": "code",
   "execution_count": null,
   "metadata": {},
   "outputs": [],
   "source": [
    "https://machinelearningmastery.com/types-of-classification-in-machine-learning/\n",
    "https://www.youtube.com/watch?v=irHhDMbw3xo\n",
    "https://en.wikipedia.org/wiki/42_(number)#Popular_culture"
   ]
  }
 ],
 "metadata": {
  "kernelspec": {
   "display_name": "Python 3",
   "language": "python",
   "name": "python3"
  },
  "language_info": {
   "codemirror_mode": {
    "name": "ipython",
    "version": 3
   },
   "file_extension": ".py",
   "mimetype": "text/x-python",
   "name": "python",
   "nbconvert_exporter": "python",
   "pygments_lexer": "ipython3",
   "version": "3.7.6"
  }
 },
 "nbformat": 4,
 "nbformat_minor": 4
}
